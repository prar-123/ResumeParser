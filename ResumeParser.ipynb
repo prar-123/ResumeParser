{
  "nbformat": 4,
  "nbformat_minor": 0,
  "metadata": {
    "colab": {
      "provenance": [],
      "authorship_tag": "ABX9TyPq6270jTl8UMi+cnHJmN8R",
      "include_colab_link": true
    },
    "kernelspec": {
      "name": "python3",
      "display_name": "Python 3"
    },
    "language_info": {
      "name": "python"
    }
  },
  "cells": [
    {
      "cell_type": "markdown",
      "metadata": {
        "id": "view-in-github",
        "colab_type": "text"
      },
      "source": [
        "<a href=\"https://colab.research.google.com/github/prar-123/ResumeParser/blob/main/ResumeParser.ipynb\" target=\"_parent\"><img src=\"https://colab.research.google.com/assets/colab-badge.svg\" alt=\"Open In Colab\"/></a>"
      ]
    },
    {
      "cell_type": "code",
      "execution_count": null,
      "metadata": {
        "colab": {
          "base_uri": "https://localhost:8080/"
        },
        "id": "xKV7D1_Xm4eS",
        "outputId": "35acca79-545b-41a0-8935-220e0cc9ee56"
      },
      "outputs": [
        {
          "output_type": "stream",
          "name": "stdout",
          "text": [
            "Looking in indexes: https://pypi.org/simple, https://us-python.pkg.dev/colab-wheels/public/simple/\n",
            "Collecting PyPDF2\n",
            "  Downloading pypdf2-3.0.1-py3-none-any.whl (232 kB)\n",
            "\u001b[2K     \u001b[90m━━━━━━━━━━━━━━━━━━━━━━━━━━━━━━━━━━━━━━━\u001b[0m \u001b[32m232.6/232.6 kB\u001b[0m \u001b[31m3.8 MB/s\u001b[0m eta \u001b[36m0:00:00\u001b[0m\n",
            "\u001b[?25hInstalling collected packages: PyPDF2\n",
            "Successfully installed PyPDF2-3.0.1\n"
          ]
        }
      ],
      "source": [
        "!pip install PyPDF2\n"
      ]
    },
    {
      "cell_type": "code",
      "source": [
        "!pip install PyMuPDF\n"
      ],
      "metadata": {
        "colab": {
          "base_uri": "https://localhost:8080/"
        },
        "id": "gn4UK9QNoDnL",
        "outputId": "6c76d9a1-cb27-47ee-9ff1-09ce019e4117"
      },
      "execution_count": null,
      "outputs": [
        {
          "output_type": "stream",
          "name": "stdout",
          "text": [
            "Looking in indexes: https://pypi.org/simple, https://us-python.pkg.dev/colab-wheels/public/simple/\n",
            "Collecting PyMuPDF\n",
            "  Downloading PyMuPDF-1.22.2-cp310-cp310-manylinux_2_17_x86_64.manylinux2014_x86_64.whl (14.1 MB)\n",
            "\u001b[2K     \u001b[90m━━━━━━━━━━━━━━━━━━━━━━━━━━━━━━━━━━━━━━━━\u001b[0m \u001b[32m14.1/14.1 MB\u001b[0m \u001b[31m55.7 MB/s\u001b[0m eta \u001b[36m0:00:00\u001b[0m\n",
            "\u001b[?25hInstalling collected packages: PyMuPDF\n",
            "Successfully installed PyMuPDF-1.22.2\n"
          ]
        }
      ]
    },
    {
      "cell_type": "code",
      "source": [
        "import fitz\n",
        "\n",
        "resume_file = \"/content/Aboli Kulkarni CV.pdf\"\n",
        "\n",
        "with fitz.open(resume_file) as doc:\n",
        "    page = doc[0]  # access the first page of the PDF file\n",
        "    text = page.get_text(\"text\")\n",
        "    print(text)\n"
      ],
      "metadata": {
        "colab": {
          "base_uri": "https://localhost:8080/"
        },
        "id": "_xEyzyjum_wW",
        "outputId": "ae34f74a-0469-45ce-8188-aa2ae4ab6819"
      },
      "execution_count": null,
      "outputs": [
        {
          "output_type": "stream",
          "name": "stdout",
          "text": [
            " \n",
            "ABOLI KULKARNI \n",
            "Aurangabad, India, 431003 | +91 9284496506 \n",
            "aboli.kulkarni2002@gmail.com \n",
            "https://www.linkedin.com/in/aboli-ganesh-kulkarni-837703221/ \n",
            " \n",
            "EXPERIENCE \n",
            "DEC 2021 – DEC 2022 \n",
            "EXECUTIVE BODY MEMBER, COMPUTER SOCIETY OF INDIA \n",
            "Organized technical events such as technical talks and non-technical events for students. \n",
            "FEB 2022 – MAY 2022 \n",
            "CONTRIBUTOR, GIRLSCRIPT SUMMER OF CODE \n",
            "Contributed to web development projects and also worked on other projects of different \n",
            "domains.  \n",
            "EDUCATION \n",
            "DEC 2020 – NOW \n",
            "BACHELOR OF TECHNOLOGY (COMPUTER SCIENCE AND ENGINEERING), MGM’S \n",
            "JAWAHARLAL NEHRU ENGINEERING COLLEGE  \n",
            "CGPA 8.46 up to 4th semester \n",
            "Related Courses: Software Engineering, Data Structures, Object Oriented Programming, \n",
            "Operating Systems, Database Management System \n",
            "2018 - 2020 \n",
            "HIGHER SECONDARY SCHOOL CERTIFICATE, VASANTRAO NAIK MAHAVIDYALAYA \n",
            "JEE MAINS – 95 Percentile \n",
            " XII MARKS – 68% \n",
            "2017 - 2018 \n",
            "SECONDARY SCHOOL CERTIFICATE, MAHARSHI VIDYALAYA \n",
            "X MARKS – 94.2% \n",
            "Award – Ms. Maharshi (2018) \n",
            "The criterion for the award is based on the performance of student in studies, extra curriculum \n",
            "activities, regularity, punctuality, and participation in workshop, social and cultural events. \n",
            "SKILLS \n",
            "• \n",
            "HTML \n",
            "• \n",
            "CSS \n",
            "• \n",
            "Android \n",
            "• \n",
            "MySQL \n",
            "• \n",
            "MongoDB \n",
            "• \n",
            "XML \n",
            "• \n",
            "NodeJS \n",
            "• \n",
            "Python \n",
            "• \n",
            "Firebase \n",
            "• \n",
            "JavaScript \n",
            "• \n",
            " Java \n",
            "\n"
          ]
        }
      ]
    },
    {
      "cell_type": "code",
      "source": [
        "!pip install PyMuPDF"
      ],
      "metadata": {
        "colab": {
          "base_uri": "https://localhost:8080/"
        },
        "id": "3IUdOSjCnIDz",
        "outputId": "9c36f332-c491-412f-ee47-3039ae427e01"
      },
      "execution_count": null,
      "outputs": [
        {
          "output_type": "stream",
          "name": "stdout",
          "text": [
            "Looking in indexes: https://pypi.org/simple, https://us-python.pkg.dev/colab-wheels/public/simple/\n",
            "Requirement already satisfied: PyMuPDF in /usr/local/lib/python3.10/dist-packages (1.22.2)\n"
          ]
        }
      ]
    },
    {
      "cell_type": "code",
      "source": [
        "!pip install python-docx\n"
      ],
      "metadata": {
        "colab": {
          "base_uri": "https://localhost:8080/"
        },
        "id": "DiFOCmLeo-AR",
        "outputId": "7804ae90-e81c-4670-b32b-1a41216b788c"
      },
      "execution_count": null,
      "outputs": [
        {
          "output_type": "stream",
          "name": "stdout",
          "text": [
            "Looking in indexes: https://pypi.org/simple, https://us-python.pkg.dev/colab-wheels/public/simple/\n",
            "Collecting python-docx\n",
            "  Downloading python-docx-0.8.11.tar.gz (5.6 MB)\n",
            "\u001b[2K     \u001b[90m━━━━━━━━━━━━━━━━━━━━━━━━━━━━━━━━━━━━━━━━\u001b[0m \u001b[32m5.6/5.6 MB\u001b[0m \u001b[31m74.7 MB/s\u001b[0m eta \u001b[36m0:00:00\u001b[0m\n",
            "\u001b[?25h  Preparing metadata (setup.py) ... \u001b[?25l\u001b[?25hdone\n",
            "Requirement already satisfied: lxml>=2.3.2 in /usr/local/lib/python3.10/dist-packages (from python-docx) (4.9.2)\n",
            "Building wheels for collected packages: python-docx\n",
            "  Building wheel for python-docx (setup.py) ... \u001b[?25l\u001b[?25hdone\n",
            "  Created wheel for python-docx: filename=python_docx-0.8.11-py3-none-any.whl size=184505 sha256=bec3dd91e51a1d95dfe30bf6e878b114749eddd16b970cd168ce59c70a6ad493\n",
            "  Stored in directory: /root/.cache/pip/wheels/80/27/06/837436d4c3bd989b957a91679966f207bfd71d358d63a8194d\n",
            "Successfully built python-docx\n",
            "Installing collected packages: python-docx\n",
            "Successfully installed python-docx-0.8.11\n"
          ]
        }
      ]
    },
    {
      "cell_type": "code",
      "source": [
        "!pip install pandas"
      ],
      "metadata": {
        "colab": {
          "base_uri": "https://localhost:8080/"
        },
        "id": "--tcHkMAo-9i",
        "outputId": "19756895-4b42-4fa8-b18b-0cf61d7f4007"
      },
      "execution_count": null,
      "outputs": [
        {
          "output_type": "stream",
          "name": "stdout",
          "text": [
            "Looking in indexes: https://pypi.org/simple, https://us-python.pkg.dev/colab-wheels/public/simple/\n",
            "Requirement already satisfied: pandas in /usr/local/lib/python3.10/dist-packages (1.5.3)\n",
            "Requirement already satisfied: numpy>=1.21.0 in /usr/local/lib/python3.10/dist-packages (from pandas) (1.22.4)\n",
            "Requirement already satisfied: pytz>=2020.1 in /usr/local/lib/python3.10/dist-packages (from pandas) (2022.7.1)\n",
            "Requirement already satisfied: python-dateutil>=2.8.1 in /usr/local/lib/python3.10/dist-packages (from pandas) (2.8.2)\n",
            "Requirement already satisfied: six>=1.5 in /usr/local/lib/python3.10/dist-packages (from python-dateutil>=2.8.1->pandas) (1.16.0)\n"
          ]
        }
      ]
    },
    {
      "cell_type": "code",
      "source": [
        "!pip install pdfplumber\n"
      ],
      "metadata": {
        "colab": {
          "base_uri": "https://localhost:8080/",
          "height": 522
        },
        "id": "sRU8g-nywJCw",
        "outputId": "bccdb79d-3239-41d3-d170-22b61a30ccd7"
      },
      "execution_count": null,
      "outputs": [
        {
          "output_type": "stream",
          "name": "stdout",
          "text": [
            "Looking in indexes: https://pypi.org/simple, https://us-python.pkg.dev/colab-wheels/public/simple/\n",
            "Collecting pdfplumber\n",
            "  Downloading pdfplumber-0.9.0-py3-none-any.whl (46 kB)\n",
            "\u001b[2K     \u001b[90m━━━━━━━━━━━━━━━━━━━━━━━━━━━━━━━━━━━━━━━━\u001b[0m \u001b[32m46.1/46.1 kB\u001b[0m \u001b[31m4.9 MB/s\u001b[0m eta \u001b[36m0:00:00\u001b[0m\n",
            "\u001b[?25hCollecting Pillow>=9.1\n",
            "  Downloading Pillow-9.5.0-cp310-cp310-manylinux_2_28_x86_64.whl (3.4 MB)\n",
            "\u001b[2K     \u001b[90m━━━━━━━━━━━━━━━━━━━━━━━━━━━━━━━━━━━━━━━━\u001b[0m \u001b[32m3.4/3.4 MB\u001b[0m \u001b[31m49.0 MB/s\u001b[0m eta \u001b[36m0:00:00\u001b[0m\n",
            "\u001b[?25hCollecting Wand>=0.6.10\n",
            "  Downloading Wand-0.6.11-py2.py3-none-any.whl (143 kB)\n",
            "\u001b[2K     \u001b[90m━━━━━━━━━━━━━━━━━━━━━━━━━━━━━━━━━━━━━━\u001b[0m \u001b[32m143.6/143.6 kB\u001b[0m \u001b[31m14.6 MB/s\u001b[0m eta \u001b[36m0:00:00\u001b[0m\n",
            "\u001b[?25hCollecting pdfminer.six==20221105\n",
            "  Downloading pdfminer.six-20221105-py3-none-any.whl (5.6 MB)\n",
            "\u001b[2K     \u001b[90m━━━━━━━━━━━━━━━━━━━━━━━━━━━━━━━━━━━━━━━━\u001b[0m \u001b[32m5.6/5.6 MB\u001b[0m \u001b[31m55.5 MB/s\u001b[0m eta \u001b[36m0:00:00\u001b[0m\n",
            "\u001b[?25hRequirement already satisfied: cryptography>=36.0.0 in /usr/local/lib/python3.10/dist-packages (from pdfminer.six==20221105->pdfplumber) (40.0.2)\n",
            "Requirement already satisfied: charset-normalizer>=2.0.0 in /usr/local/lib/python3.10/dist-packages (from pdfminer.six==20221105->pdfplumber) (2.0.12)\n",
            "Requirement already satisfied: cffi>=1.12 in /usr/local/lib/python3.10/dist-packages (from cryptography>=36.0.0->pdfminer.six==20221105->pdfplumber) (1.15.1)\n",
            "Requirement already satisfied: pycparser in /usr/local/lib/python3.10/dist-packages (from cffi>=1.12->cryptography>=36.0.0->pdfminer.six==20221105->pdfplumber) (2.21)\n",
            "Installing collected packages: Wand, Pillow, pdfminer.six, pdfplumber\n",
            "  Attempting uninstall: Pillow\n",
            "    Found existing installation: Pillow 8.4.0\n",
            "    Uninstalling Pillow-8.4.0:\n",
            "      Successfully uninstalled Pillow-8.4.0\n",
            "Successfully installed Pillow-9.5.0 Wand-0.6.11 pdfminer.six-20221105 pdfplumber-0.9.0\n"
          ]
        },
        {
          "output_type": "display_data",
          "data": {
            "application/vnd.colab-display-data+json": {
              "pip_warning": {
                "packages": [
                  "PIL"
                ]
              }
            }
          },
          "metadata": {}
        }
      ]
    },
    {
      "cell_type": "code",
      "source": [
        "import re\n",
        "import pdfminer\n",
        "from io import StringIO\n",
        "from pdfminer.pdfinterp import PDFResourceManager, PDFPageInterpreter\n",
        "from pdfminer.converter import TextConverter\n",
        "from pdfminer.layout import LAParams\n",
        "from pdfminer.pdfpage import PDFPage\n",
        "\n",
        "# Section 1: Read the Resume Text\n",
        "def pdf_to_text(path):\n",
        "    manager = PDFResourceManager()\n",
        "    retstr = StringIO()\n",
        "    layout = LAParams(all_texts=True)\n",
        "    device = TextConverter(manager, retstr, laparams=layout)\n",
        "    with open(path, 'rb') as file:\n",
        "        interpreter = PDFPageInterpreter(manager, device)\n",
        "        for page in PDFPage.get_pages(file):\n",
        "            interpreter.process_page(page)\n",
        "    text = retstr.getvalue()\n",
        "    device.close()\n",
        "    retstr.close()\n",
        "    return text\n",
        "\n",
        "text = pdf_to_text('/content/Aboli Kulkarni CV.pdf')\n",
        "\n",
        "# Section 2: Extract Contact Information\n",
        "phone = re.findall(r'[\\+\\(]?[1-9][0-9 .\\-\\(\\)]{8,}[0-9]', text)\n",
        "email = re.findall(r'\\S+@\\S+', text)\n",
        "\n",
        "# Section 3: Extract Skills\n",
        "with open('/content/skills.txt') as f:\n",
        "    skills = f.readlines()\n",
        "skills = [x.strip() for x in skills]\n",
        "\n",
        "candidate_skills = []\n",
        "for line in text.split('\\n'):\n",
        "    for skill in skills:\n",
        "        if re.findall(skill, line, re.IGNORECASE):\n",
        "            candidate_skills.append(skill)\n",
        "\n",
        "# Section 4: Check if the candidate is eligible for the job\n",
        "if set(skills).issubset(set(candidate_skills)):\n",
        "    print(\"The candidate is eligible for the job.\")\n",
        "    print(f\"Phone: {phone[0]}\")\n",
        "    print(f\"Email: {email[0]}\")\n",
        "else:\n",
        "    missing_skills = set(skills) - set(candidate_skills)\n",
        "    print(\"The candidate is not eligible for the job.\")\n",
        "    print(f\"Missing skills: {', '.join(missing_skills)}\")\n"
      ],
      "metadata": {
        "colab": {
          "base_uri": "https://localhost:8080/"
        },
        "id": "YbXLO8_GpDid",
        "outputId": "ca180c26-1011-479c-bb3a-d972755a037b"
      },
      "execution_count": null,
      "outputs": [
        {
          "output_type": "stream",
          "name": "stdout",
          "text": [
            "The candidate is not eligible for the job.\n",
            "Missing skills: Agile Development, Project Management, Node.js, Linux, AWS, Azure, React, Microsoft Office\n"
          ]
        }
      ]
    },
    {
      "cell_type": "markdown",
      "source": [
        "# New Section"
      ],
      "metadata": {
        "id": "EVQwgYZaL2wj"
      }
    },
    {
      "cell_type": "markdown",
      "source": [
        "# New Section"
      ],
      "metadata": {
        "id": "h30AOi1JL3WT"
      }
    }
  ]
}